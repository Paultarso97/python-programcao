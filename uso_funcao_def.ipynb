{
 "cells": [
  {
   "cell_type": "code",
   "execution_count": null,
   "metadata": {},
   "outputs": [
    {
     "name": "stdout",
     "output_type": "stream",
     "text": [
      "o numero 6 é par\n"
     ]
    }
   ],
   "source": [
    "# ***CRIE UMA FUNÇÃO PARA COMPARAR 2 NÚMEROS (par ou impar). UTILIZE VARIÁVEIS LOCAIS.***\n",
    "\n",
    "\n",
    "def impar_par(a):\n",
    "    \n",
    "    #a = float(input('digite um nuemro'))\n",
    "    if a % 2 == 0:\n",
    "        print(f\"o numero {a} é par\")\n",
    "    else:\n",
    "        print(f\"o numero {a} é impar\")\n",
    "\n",
    "impar_par(6)\n",
    "\n",
    "\n"
   ]
  },
  {
   "cell_type": "code",
   "execution_count": 15,
   "metadata": {},
   "outputs": [
    {
     "name": "stdout",
     "output_type": "stream",
     "text": [
      "o resultado da multiplicacao de 4 x 3  = 12\n"
     ]
    }
   ],
   "source": [
    "# ***CRIE UM AFUNÇÃO PARA MULTIPLICAR 3 NUMEROS.***\n",
    "\n",
    "def mult_3(mult):\n",
    "    print(f\"o resultado da multiplicacao de {mult} x 3  =\", mult * 3)\n",
    "\n",
    "mult_3(4)\n",
    "    "
   ]
  },
  {
   "cell_type": "code",
   "execution_count": 16,
   "metadata": {},
   "outputs": [
    {
     "name": "stdout",
     "output_type": "stream",
     "text": [
      "o resultado da potenciação de 3 elevado a 4  = 81\n"
     ]
    }
   ],
   "source": [
    "# ***CRIE UMA FUNÇÃO PARA DESCOBRIR O VALOR ELEVADO DE UM NÚMERO.***\n",
    "\n",
    "def potencia(numero, expo):\n",
    "    print(f\"o resultado da potenciação de {numero} elevado a {expo}  =\", numero ** expo)\n",
    "\n",
    "potencia(3, 4)"
   ]
  },
  {
   "cell_type": "code",
   "execution_count": null,
   "metadata": {},
   "outputs": [
    {
     "name": "stdout",
     "output_type": "stream",
     "text": [
      "cuidado voce joao, já pode ser preso\n"
     ]
    }
   ],
   "source": [
    "# ***CRIE UMA FUNÇÃO PARA MOSTRAR UMA MENSAGEM PERSONALIZADA NA TELA, SE O USUÁRIO  DIGITAR, 18 ANOS***\n",
    "\n",
    "def mensagem(nome, idade):\n",
    "    if idade >= 18:\n",
    "        print(f\"cuidado voce {nome}, já pode ser preso\")\n",
    "    else:\n",
    "        print(f\" {nome} não falo com criança\")\n",
    "\n",
    "nome = input(\"nome\")\n",
    "idade =  float(input(\"idade\"))\n",
    "\n",
    "mensagem(nome, idade)"
   ]
  },
  {
   "cell_type": "code",
   "execution_count": null,
   "metadata": {},
   "outputs": [
    {
     "name": "stdout",
     "output_type": "stream",
     "text": [
      "voce tem 28.0\n"
     ]
    }
   ],
   "source": [
    "# ***DESENVOLVA UMA FUNÇÃO PARA DESCOBRIR A IDADE DE UMA PESSOA.***\n",
    "\n",
    "def desc_idade(nasci):\n",
    "    print(f\"voce tem {2025-nasci}, se não fez aniversario esse ano e {2024-nasci}, se já fez aniversario esse ano\")\n",
    "\n",
    "nasci =  float(input(\"nasceu?\"))\n",
    "desc_idade(nasci)"
   ]
  },
  {
   "cell_type": "code",
   "execution_count": 22,
   "metadata": {},
   "outputs": [
    {
     "name": "stdout",
     "output_type": "stream",
     "text": [
      "não teve copa em 1999\n"
     ]
    }
   ],
   "source": [
    "# ***DESENVOLVA UM AFUNÇÃO PARA VER SE O BRASIL GANHOU A COPA DE 1999***\n",
    "\n",
    "def copa():\n",
    "    print(\"não teve copa em 1999\")\n",
    "\n",
    "copa()"
   ]
  },
  {
   "cell_type": "code",
   "execution_count": null,
   "metadata": {},
   "outputs": [
    {
     "name": "stdout",
     "output_type": "stream",
     "text": [
      "opcao invalida\n",
      "qual prato o senhor deseja? SALADA, MACARRONADA, SANDUICHE, SORVETE\n"
     ]
    },
    {
     "ename": "UnboundLocalError",
     "evalue": "cannot access local variable 'a' where it is not associated with a value",
     "output_type": "error",
     "traceback": [
      "\u001b[0;31m---------------------------------------------------------------------------\u001b[0m",
      "\u001b[0;31mUnboundLocalError\u001b[0m                         Traceback (most recent call last)",
      "Cell \u001b[0;32mIn[28], line 25\u001b[0m\n\u001b[1;32m     21\u001b[0m     \u001b[38;5;28mprint\u001b[39m(\u001b[38;5;124mf\u001b[39m\u001b[38;5;124m\"\u001b[39m\u001b[38;5;124mexcelente escolha \u001b[39m\u001b[38;5;132;01m{\u001b[39;00ma\u001b[38;5;132;01m}\u001b[39;00m\u001b[38;5;124m\"\u001b[39m)\n\u001b[1;32m     23\u001b[0m escolha \u001b[38;5;241m=\u001b[39m  \u001b[38;5;28mint\u001b[39m(\u001b[38;5;28minput\u001b[39m(\u001b[38;5;124m\"\u001b[39m\u001b[38;5;124mdigite 1 -> SALADA, 2 -> MACARRONADA, 3 -> SANDUICHE, 4 -> SORVETE, \u001b[39m\u001b[38;5;124m\"\u001b[39m))\n\u001b[0;32m---> 25\u001b[0m \u001b[43mprato\u001b[49m\u001b[43m(\u001b[49m\u001b[43mescolha\u001b[49m\u001b[43m)\u001b[49m\n",
      "Cell \u001b[0;32mIn[28], line 21\u001b[0m, in \u001b[0;36mprato\u001b[0;34m(escolha)\u001b[0m\n\u001b[1;32m     18\u001b[0m     \u001b[38;5;28mprint\u001b[39m(\u001b[38;5;124m'\u001b[39m\u001b[38;5;124mopcao invalida\u001b[39m\u001b[38;5;124m'\u001b[39m)\n\u001b[1;32m     20\u001b[0m \u001b[38;5;28mprint\u001b[39m(\u001b[38;5;124m\"\u001b[39m\u001b[38;5;124mqual prato o senhor deseja?\u001b[39m\u001b[38;5;124m\"\u001b[39m, \u001b[38;5;124m\"\u001b[39m\u001b[38;5;124mSALADA, MACARRONADA, SANDUICHE, SORVETE\u001b[39m\u001b[38;5;124m\"\u001b[39m)\n\u001b[0;32m---> 21\u001b[0m \u001b[38;5;28mprint\u001b[39m(\u001b[38;5;124mf\u001b[39m\u001b[38;5;124m\"\u001b[39m\u001b[38;5;124mexcelente escolha \u001b[39m\u001b[38;5;132;01m{\u001b[39;00m\u001b[43ma\u001b[49m\u001b[38;5;132;01m}\u001b[39;00m\u001b[38;5;124m\"\u001b[39m)\n",
      "\u001b[0;31mUnboundLocalError\u001b[0m: cannot access local variable 'a' where it is not associated with a value"
     ]
    }
   ],
   "source": [
    "# ***DESENVOLVA UM SISTEMA DE RESTAURANTE, ONDE O CLIENTE TEM OPÇÃO\n",
    "#  DE ESCOLHER ENTRE SALADA, MACARRONADA, SANDUICHE, SORVETE.***\"\"\"\n",
    "\n",
    "def prato(escolha):\n",
    "\n",
    "    if escolha == 1:\n",
    "        a = \"SALADA\"\n",
    "\n",
    "    if escolha == 2:\n",
    "        a = \"MACARRONADA\"\n",
    "\n",
    "    if escolha == 3:\n",
    "        a = \"SANDUICHE\"\n",
    "\n",
    "    if escolha == 4:\n",
    "        a = \"SORVETE\"\n",
    " \n",
    "\n",
    "    print(\"qual prato o senhor deseja?\", \"SALADA, MACARRONADA, SANDUICHE, SORVETE\")\n",
    "    print(f\"excelente escolha {a}\")\n",
    "\n",
    "escolha =  int(input(\"digite 1 -> SALADA, 2 -> MACARRONADA, 3 -> SANDUICHE, 4 -> SORVETE, \"))\n",
    "\n",
    "prato(escolha)"
   ]
  },
  {
   "cell_type": "code",
   "execution_count": null,
   "metadata": {},
   "outputs": [],
   "source": []
  }
 ],
 "metadata": {
  "kernelspec": {
   "display_name": "Python 3",
   "language": "python",
   "name": "python3"
  },
  "language_info": {
   "codemirror_mode": {
    "name": "ipython",
    "version": 3
   },
   "file_extension": ".py",
   "mimetype": "text/x-python",
   "name": "python",
   "nbconvert_exporter": "python",
   "pygments_lexer": "ipython3",
   "version": "3.13.0"
  }
 },
 "nbformat": 4,
 "nbformat_minor": 2
}
