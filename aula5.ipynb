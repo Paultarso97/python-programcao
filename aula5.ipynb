{
 "cells": [
  {
   "cell_type": "code",
   "execution_count": 16,
   "metadata": {},
   "outputs": [
    {
     "name": "stdout",
     "output_type": "stream",
     "text": [
      "print()\n"
     ]
    }
   ],
   "source": [
    "print('print()')"
   ]
  },
  {
   "cell_type": "code",
   "execution_count": 17,
   "metadata": {},
   "outputs": [],
   "source": [
    "import random"
   ]
  },
  {
   "cell_type": "code",
   "execution_count": 19,
   "metadata": {},
   "outputs": [
    {
     "name": "stdout",
     "output_type": "stream",
     "text": [
      "1\n",
      "2\n",
      "3\n",
      "4\n",
      "5\n",
      "6\n",
      "7\n",
      "8\n",
      "9\n",
      "[9, 2, 8, 12, 9, 11, 17, 16, 5]\n"
     ]
    }
   ],
   "source": [
    "a = 10 \n",
    "lista = []\n",
    "for i in range(1,10):\n",
    "    sorteio  = random.randint(1,20)\n",
    "    lista.append(sorteio)\n",
    "    print(i)\n",
    "print(lista)"
   ]
  },
  {
   "cell_type": "code",
   "execution_count": 41,
   "metadata": {},
   "outputs": [
    {
     "name": "stdout",
     "output_type": "stream",
     "text": [
      "seje bem-vindo\n"
     ]
    }
   ],
   "source": [
    "#1 Imprima uma mensagem de boas-vindas na tela.\n",
    "print('seje bem-vindo')\n"
   ]
  },
  {
   "cell_type": "code",
   "execution_count": 23,
   "metadata": {},
   "outputs": [
    {
     "name": "stdout",
     "output_type": "stream",
     "text": [
      "<class 'bool'> True\n"
     ]
    }
   ],
   "source": [
    "#2 Declare uma variável booleana verdadeiro com o valor True e imprima seu tipo\n",
    "\n",
    "a = bool(1)\n",
    "\n",
    "print(type(a), a)\n"
   ]
  },
  {
   "cell_type": "code",
   "execution_count": 24,
   "metadata": {},
   "outputs": [
    {
     "name": "stdout",
     "output_type": "stream",
     "text": [
      "0.1925\n"
     ]
    }
   ],
   "source": [
    "\n",
    "# 3 Imprima o resultado da multiplicação de dois números decimais de sua escolha\n",
    "\n",
    "n1 = 0.35\n",
    "\n",
    "n2 = 0.55\n",
    "\n",
    "mult = n1 * n2\n",
    "print(mult)"
   ]
  },
  {
   "cell_type": "code",
   "execution_count": 26,
   "metadata": {},
   "outputs": [
    {
     "name": "stdout",
     "output_type": "stream",
     "text": [
      "1.25\n"
     ]
    }
   ],
   "source": [
    "#4 Imprima o resultado da divisão de dois números inteiros de sua escolha.\n",
    "\n",
    "n1 = 5\n",
    "\n",
    "n2 = 4\n",
    "\n",
    "div = n1 / n2\n",
    "print(div)\n",
    "\n"
   ]
  },
  {
   "cell_type": "code",
   "execution_count": 27,
   "metadata": {},
   "outputs": [
    {
     "name": "stdout",
     "output_type": "stream",
     "text": [
      "1\n"
     ]
    }
   ],
   "source": [
    "# 5 Imprima o resultado da subtração de dois números inteiros de sua escolha\n",
    "\n",
    "n1 = 5\n",
    "\n",
    "n2 = 4\n",
    "\n",
    "menos = n1 - n2\n",
    "print(menos)\n"
   ]
  },
  {
   "cell_type": "code",
   "execution_count": 28,
   "metadata": {},
   "outputs": [
    {
     "name": "stdout",
     "output_type": "stream",
     "text": [
      "1\n"
     ]
    }
   ],
   "source": [
    "# 6 Imprima o resultado da divisão inteira de dois números inteiros de sua escolha.\n",
    "\n",
    "\n",
    "n1 = 5\n",
    "\n",
    "n2 = 4\n",
    "\n",
    "int = n1 // n2\n",
    "print(int)\n"
   ]
  },
  {
   "cell_type": "code",
   "execution_count": null,
   "metadata": {},
   "outputs": [
    {
     "name": "stdout",
     "output_type": "stream",
     "text": [
      "240\n"
     ]
    }
   ],
   "source": [
    "# 7 Imprima o resultado da multiplicação de 4 números decimais de sua escolha\n",
    "\n",
    "\n",
    "n1 = 0.5\n",
    "n2 = 0.3\n",
    "n3 = 0.2\n",
    "n4 = 0.8\n",
    "\n",
    "mult = n1 * n2 * n3 * n4\n",
    "print(mult)"
   ]
  },
  {
   "cell_type": "code",
   "execution_count": null,
   "metadata": {},
   "outputs": [
    {
     "name": "stdout",
     "output_type": "stream",
     "text": [
      "8\n"
     ]
    }
   ],
   "source": [
    "#8 Declare uma variável numero e atribua um número inteiro. Em seguida, imprima o dobro desse número\n",
    "\n",
    "var =  float(input('digite um numero'))\n",
    "doblo = var * 2\n",
    "print(doblo)\n",
    "\n"
   ]
  },
  {
   "cell_type": "code",
   "execution_count": null,
   "metadata": {},
   "outputs": [
    {
     "name": "stdout",
     "output_type": "stream",
     "text": [
      "<class 'int'>\n"
     ]
    }
   ],
   "source": [
    "# 9 Crie uma calculadora de soma com as ferramentas que vc já conhece(Use apenas input, print e variavel)\n",
    "\n",
    "n1 = float(input(\"DIGITE UM NUMERO\"))\n",
    "n2 = float(input(\"DIGITE UM NUMERO\"))\n",
    "print(n1, n2)\n",
    "oper = input(\"qual operação voçê quer fazer? soma, sub, div, mult \")\n",
    "print(oper)\n",
    "soma = 'soma'\n",
    "sub = 'sub'\n",
    "div = 'div'\n",
    "mult = 'mult'\n",
    "\n",
    "\n",
    "if oper == soma:\n",
    "  soma = (n1+n2)\n",
    "  print(soma)\n",
    "elif oper == sub:\n",
    "  sub = (n1-n2)\n",
    "  print(sub)\n",
    "elif oper == div:\n",
    "  div = (n1/n2)\n",
    "  print(div)\n",
    "else:\n",
    "  mult = (n1*n2)\n",
    "  print(mult)"
   ]
  },
  {
   "cell_type": "code",
   "execution_count": 40,
   "metadata": {},
   "outputs": [
    {
     "name": "stdout",
     "output_type": "stream",
     "text": [
      "estudante cadastro com sucesso\n",
      "o aluno paulo, com 27 anos e da cidade de sp\n"
     ]
    }
   ],
   "source": [
    "\n",
    "# 10 Crie um sistema de cadastro com as estruturas que vc já conhece(Use apenas input, print e variavel)\n",
    "\n",
    "nome = input('digite o nome')\n",
    "idade = float(input('digite a idade'))\n",
    "cidade = input('digite a cidade')\n",
    "\n",
    "print('estudante cadastro com sucesso')\n",
    "\n",
    "print(f\"o aluno {nome}, com {idade:.0f} anos e da cidade de {cidade}\")"
   ]
  },
  {
   "cell_type": "code",
   "execution_count": null,
   "metadata": {},
   "outputs": [],
   "source": []
  }
 ],
 "metadata": {
  "kernelspec": {
   "display_name": ".venv",
   "language": "python",
   "name": "python3"
  },
  "language_info": {
   "codemirror_mode": {
    "name": "ipython",
    "version": 3
   },
   "file_extension": ".py",
   "mimetype": "text/x-python",
   "name": "python",
   "nbconvert_exporter": "python",
   "pygments_lexer": "ipython3",
   "version": "3.13.0"
  }
 },
 "nbformat": 4,
 "nbformat_minor": 2
}
